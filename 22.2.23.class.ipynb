{
 "cells": [
  {
   "cell_type": "code",
   "execution_count": null,
   "metadata": {},
   "outputs": [],
   "source": [
    "\n",
    "\n"
   ]
  },
  {
   "cell_type": "code",
   "execution_count": 1,
   "metadata": {},
   "outputs": [
    {
     "name": "stdout",
     "output_type": "stream",
     "text": [
      "9\n"
     ]
    }
   ],
   "source": [
    "def func_1(a, b) :\n",
    "     c = a + b # 매개변수1개 #인자2개 #지역변수\n",
    "     return c\n",
    "\n",
    "d = func_1(3, 6) #전역변수\n",
    "\n",
    "print(d)"
   ]
  },
  {
   "cell_type": "code",
   "execution_count": 2,
   "metadata": {},
   "outputs": [
    {
     "name": "stdout",
     "output_type": "stream",
     "text": [
      "15\n",
      "55\n",
      "30\n"
     ]
    }
   ],
   "source": [
    "def func_3(*args) : #*표시 여개의 매개변수를 불러올려고\n",
    "    result = 0\n",
    "    for i in args :\n",
    "        result += i\n",
    "    return result\n",
    "\n",
    "result = func_3(1,2,3,4,5)\n",
    "print(result)\n",
    "\n",
    "result2 = func_3(1,2,3,4,5,6,7,8,9,10)\n",
    "print(result2)\n",
    "\n",
    "result3 = func_3(2,4,6,8,10)\n",
    "print(result3)\n"
   ]
  },
  {
   "cell_type": "code",
   "execution_count": null,
   "metadata": {},
   "outputs": [],
   "source": [
    "#플라스크\n",
    "\n",
    "# 웹서버란 - 하드웨어, 소프트웨어 두가지 측면으로 구분 할 수 있다. \n",
    "#-요청을 하고 처리 응답을 한다. \n",
    "\n",
    "\n"
   ]
  }
 ],
 "metadata": {
  "interpreter": {
   "hash": "ddbee94c2ce3b61c3b1774ea67d55f2fdae8c29319837f6f09ba2209f9564fc6"
  },
  "kernelspec": {
   "display_name": "Python 3.10.2 64-bit",
   "language": "python",
   "name": "python3"
  },
  "language_info": {
   "codemirror_mode": {
    "name": "ipython",
    "version": 3
   },
   "file_extension": ".py",
   "mimetype": "text/x-python",
   "name": "python",
   "nbconvert_exporter": "python",
   "pygments_lexer": "ipython3",
   "version": "3.10.2"
  },
  "orig_nbformat": 4
 },
 "nbformat": 4,
 "nbformat_minor": 2
}
