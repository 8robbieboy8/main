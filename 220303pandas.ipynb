{
 "cells": [
  {
   "cell_type": "code",
   "execution_count": null,
   "metadata": {},
   "outputs": [],
   "source": [
    "values = [1,2,3,4,5,1,2,3]\n",
    "test = pd.DataFrame(values)\n",
    "test"
   ]
  },
  {
   "cell_type": "code",
   "execution_count": null,
   "metadata": {},
   "outputs": [],
   "source": [
    "test.columns = [\"A\"]\n",
    "test"
   ]
  },
  {
   "cell_type": "code",
   "execution_count": null,
   "metadata": {},
   "outputs": [],
   "source": [
    "test[\"B\"] = test[\"A\"].apply(lambda x : 0 if (x <= 3) else 1)\n",
    "test"
   ]
  },
  {
   "cell_type": "code",
   "execution_count": null,
   "metadata": {},
   "outputs": [],
   "source": [
    "corona_df_5 = corona_df_3.copy()\n",
    "corona_df_5[\"H/L\"] = corona_df_5[\"누적확진률\"].apply(lambda x: \"High\"\n",
    "                    if (x >=3.5) else \"Low\")\n",
    "corona_df_5"
   ]
  },
  {
   "cell_type": "code",
   "execution_count": null,
   "metadata": {},
   "outputs": [],
   "source": [
    "def change(x):\n",
    "    if x <3:\n",
    "        return 0 \n",
    "    elif x < 5:\n",
    "        return 1\n",
    "    elif x < 7:\n",
    "        return 2 \n",
    "    else:\n",
    "        return 3\n",
    "\n",
    "test.A = test.A.apply(change)\n",
    "test"
   ]
  },
  {
   "cell_type": "code",
   "execution_count": null,
   "metadata": {},
   "outputs": [],
   "source": [
    "corona_df_5[\"등록일시\"] = pd.to_datetime(corona_df_5[\"등록일시\"],\n",
    "                                        format=\"%Y-%m-%d\")\n",
    "\n",
    "corona_df_5[\"요일\"] = corona_df_5[\"등록일시\"].dt.weekday\n",
    "corona_df_5.head()"
   ]
  },
  {
   "cell_type": "code",
   "execution_count": null,
   "metadata": {},
   "outputs": [],
   "source": [
    "def week_change(x):\n",
    "    if x == 0:\n",
    "        return\"월\"\n",
    "    elif x ==1:\n",
    "        return\"화\"\n",
    "    elif x ==2:\n",
    "        return\"수\"\n",
    "    elif x ==3:\n",
    "        return\"목\"\n",
    "    elif x ==4:\n",
    "        return\"금\"\n",
    "    elif x ==5:\n",
    "        return\"토\"\n",
    "    elif x ==6:\n",
    "        return\"일\"\n",
    "    else:\n",
    "        return\n",
    "\n",
    "corona_df_5[\"요일\"] = corona_df_5[\"요일\"].apply(week_change)\n",
    "corona_df_5.head()"
   ]
  }
 ],
 "metadata": {
  "interpreter": {
   "hash": "ddbee94c2ce3b61c3b1774ea67d55f2fdae8c29319837f6f09ba2209f9564fc6"
  },
  "kernelspec": {
   "display_name": "Python 3.10.2 64-bit",
   "language": "python",
   "name": "python3"
  },
  "language_info": {
   "name": "python",
   "version": "3.10.2"
  },
  "orig_nbformat": 4
 },
 "nbformat": 4,
 "nbformat_minor": 2
}
